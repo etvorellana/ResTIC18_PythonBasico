{
 "cells": [
  {
   "cell_type": "markdown",
   "metadata": {},
   "source": [
    "# Módulo de Programação Python\n",
    "\n",
    "# Trilha Python - Aula 4x/4x: Implementando GUI em Python\n",
    "\n",
    "<img align=\"center\" style=\"padding-right:10px;\" src=\"Figuras/aula-31_fig_01.png\">"
   ]
  },
  {
   "cell_type": "markdown",
   "metadata": {},
   "source": [
    "## GUIs em Python\n",
    "\n",
    "A interface gráfica com o usuário (GUI) é um componente extremamente importante em muitas aplicações;\n",
    "\n",
    "Python permite trabalhar com múltiplas bibliotecas que implementam recursos para desenvolver GUIs;\n",
    "\n",
    "Os recursos da linguagem facilitam o desenvolvimento de GUIs eficientes  personalizáveis.\n",
    "\n",
    "Quais as principais opções disponíveis ?"
   ]
  },
  {
   "cell_type": "markdown",
   "metadata": {},
   "source": [
    "### Tkinter\n",
    "\n",
    "O que é Tk Inter?\n",
    "\n",
    "O __Tk Inter__, também conhecido como __tkinter__, é um módulo padrão da linguagem de programação __Python__ que fornece os recursos para implementar uma interface gráfica de usuário (GUI) para seus programas. Ele é disponibiliza uma camada de abstração que facilita a criação de interfaces gráficas complexas com __Python__, utilizando o poderoso kit de ferramentas __Tcl/Tk__ ([aqui](https://www.tcl.tk)).\n",
    "\n",
    "#### Vantagens de usar o Tk Inter\n",
    "\n",
    "* Facilidade de uso: Sintaxe simples e intuitiva para criação de GUIs.\n",
    "* Portabilidade: Suporte a diversas plataformas, como Windows, macOS e Linux.\n",
    "* Extensibilidade: Ampla gama de widgets e bibliotecas disponíveis para ampliar as funcionalidades da GUI.\n",
    "* Comunidade ativa: Grande comunidade de desenvolvedores com recursos e suporte online.\n",
    "\n",
    "#### Exemplos de uso do Tk Inter\n",
    "\n",
    "* Criar interfaces para aplicativos simples, como calculadoras e agendas.\n",
    "* Desenvolver interfaces complexas para jogos e ferramentas de análise de dados.\n",
    "* Prototipar interfaces de usuário para websites e softwares.\n",
    "Recursos para aprender mais:\n",
    "\n",
    "Documentação do [Tk Inter](https://docs.python.org/pt-br/3/library/tkinter.html)\n",
    "Tutoriais do [Tk Inter](https://wiki.python.org/moin/TkInter)"
   ]
  },
  {
   "cell_type": "markdown",
   "metadata": {},
   "source": [
    "### PyQt\n",
    "\n",
    "* Implementa a biblioteca __Qt__ ([aqui](https://doc.qt.io/qt-5/qtgui-index.html)), conhecida por sua interface moderna e nativa em diferentes plataformas.\n",
    "\n",
    "* Oferece uma ampla variedade de _widgets_ e recursos avançados, como layouts complexos e animações.\n",
    "\n",
    "* A curva de aprendizado pode ser mais íngreme que o __Tkinter__, mas a documentação e a comunidade online são excelentes.\n",
    "\n",
    "* O __PySide__ é a versão oficial do __PyQT__ com licença __LGPL__. Ele permite que desenvolvedores __Python__ usem a estrutura __QT__ para criar aplicativos poderosos e flexíveis.\n"
   ]
  },
  {
   "cell_type": "markdown",
   "metadata": {},
   "source": [
    "### 2. Kivy\n",
    "\n",
    "* [Ideal](https://kivy.org) para desenvolvimento de interfaces multiplataforma, incluindo mobile (Android e iOS).\n",
    "\n",
    "* Possui uma linguagem de design própria (KV) que facilita a criação de interfaces com aparência nativa em diferentes plataformas.\n",
    "\n",
    "* Permite o desenvolvimento de jogos e aplicativos com recursos gráficos avançados."
   ]
  },
  {
   "cell_type": "markdown",
   "metadata": {},
   "source": [
    "### 3. wxPython:\n",
    "\n",
    "* [Traz](https://wxpython.org) a biblioteca wxWidgets do C++ para Python, oferecendo grande flexibilidade e controle sobre a GUI.\n",
    "\n",
    "* Possui um conjunto de widgets extenso e permite a integração com outras bibliotecas C++.\n",
    "\n",
    "* A comunidade online é ativa e oferece diversos recursos para aprendizado."
   ]
  },
  {
   "cell_type": "markdown",
   "metadata": {},
   "source": [
    "### PySimpleGUI:\n",
    "\n",
    "* Opção ideal para iniciantes, com interface amigável e código conciso.\n",
    "\n",
    "* Oferece um conjunto básico de widgets, mas é suficiente para a criação de interfaces simples e funcionais.\n",
    "\n",
    "* A biblioteca é leve e rápida, ideal para projetos que não exigem interfaces complexas."
   ]
  },
  {
   "cell_type": "markdown",
   "metadata": {},
   "source": [
    "## Programando com tkinter\n",
    "\n",
    "Temos então que __tkinter__ é a escolha para quem quer garantir portabilidade de código em __Python__\n",
    "* Acessível;\n",
    "* Portável;\n",
    "* Disponível;\n",
    "__TK inter__ é na realidade uma interface em __Python__, já embutida na versão padrão, para a biblioteca Tk, originalmente desenhada para usar com Tcl;\n",
    "\n",
    "Vejamos alguns exemplos simples:"
   ]
  },
  {
   "cell_type": "code",
   "execution_count": 2,
   "metadata": {},
   "outputs": [],
   "source": [
    "%run ../Exemplos/tkinter/exemplo_01"
   ]
  },
  {
   "cell_type": "markdown",
   "metadata": {},
   "source": [
    "O método ``mainloop``, chamado no final de script, coloca o __widget__ da classe ``Label`` na tela e entra em um estado de espera, que monitora eventos GUI gerados pelo usuário. Dentro da função ``mainloop``, o __tkinter__ monitora internamente coisas como teclado e mouse para detectar eventos gerados pelo usuário. Na verdade, a função __tkinter mainloop é semelhante em espírito ao seguinte código pseudo-Python:\n",
    "\n",
    "```\n",
    "def mainloop():\n",
    "    while the main window has not been closed:\n",
    "        if an event has occurred:\n",
    "            run the associated event handler function\n",
    "```"
   ]
  },
  {
   "cell_type": "markdown",
   "metadata": {},
   "source": [
    "Por causa desse modelo, a chamada do ``mainloop``  nunca retorna o controle ao nosso script enquanto a __GUI__ é exibida na tela. \n",
    "\n",
    "Quando escrevemos scripts maiores, a única maneira de fazermos alguma coisa depois de chamar o ``mainloop`` é registrando funções de manipulação de eventos (_callback handlers_) para responder.\n",
    "\n",
    "Isso é chamado de programação orientada a eventos e talvez seja um dos aspectos mais incomuns das GUIs. Os programas GUI assumem a forma de um conjunto de manipuladores de eventos que compartilham informações salvas, em vez de um único fluxo de controle principal. Veremos como isso fica em termos de código real em exemplos posteriores."
   ]
  },
  {
   "cell_type": "markdown",
   "metadata": {},
   "source": [
    "As janelas de nível superior ou janelas principais, como a janela implícita que foi construída no primeiro exemplo, podem ser movimentadas e redimensionadas pelo usuário. Veja o que acontece quando expandimos a janela.\n",
    "\n",
    "Isso não é muito bom – o widget que criamos permanece colado ao topo da janela pai em vez de permanecer no meio durante a expansão. Como mudar este comportamento? "
   ]
  },
  {
   "cell_type": "code",
   "execution_count": 3,
   "metadata": {},
   "outputs": [],
   "source": [
    "%run ../Exemplos/tkinter/exemplo_02"
   ]
  },
  {
   "cell_type": "markdown",
   "metadata": {},
   "source": [
    "\n",
    "\n",
    "``side=tk.TOP``: Pede para o empacotador alinhar o widget na à parte superior do pai.\n",
    "\n",
    "``expand = tk.YES``: Pede ao empacotador para expandir o espaço alocado para o widget em geral para qualquer espaço não reivindicado no pai do widget.\n",
    "\n",
    "``fill = tk.BOTH``: Pode ser usado para esticar o widget para ocupar todo o espaço alocado.\n",
    "\n",
    "O método config (que também pode ser chamado por seu sinônimo, configure) pode ser chamado a qualquer momento, após a construção do widget, para alterar a aparência do mesmo instantaneamente."
   ]
  },
  {
   "cell_type": "code",
   "execution_count": null,
   "metadata": {},
   "outputs": [],
   "source": [
    "%run ../Exemplos/tkinter/exemplo_03"
   ]
  },
  {
   "cell_type": "markdown",
   "metadata": {},
   "source": [
    "Até agora, aprendemos como exibir mensagens em rótulos e conhecemos alguns conceitos importantes do __tkinter__ ao longo do caminho. Os rótulos são bons para ensinar o básico, mas as interfaces de usuário geralmente precisam fazer um pouco mais, como realmente responder aos usuários."
   ]
  },
  {
   "cell_type": "code",
   "execution_count": null,
   "metadata": {},
   "outputs": [],
   "source": [
    "%run ../Exemplos/tkinter/exemplo_04"
   ]
  },
  {
   "cell_type": "markdown",
   "metadata": {},
   "source": [
    "Agora, em vez de criar um rótulo, criamos uma instância da classe ``Button``, um novo widget. \n",
    "\n",
    "Ele está anexado à janela de nível superior como antes na parte superior da mesma (TOP), como é por padrão. \n",
    "\n",
    "Mas a principal coisa a notar aqui são os argumentos de configuração do botão: definimos uma opção chamada ``command`` para a função ``sys.exit``. \n",
    "\n",
    "Para botões, esta opção identifica o local onde especificamos uma função manipuladora de retorno de chamada, ou o manipulador de eventos, a ser executada quando o botão for pressionado posteriormente. \n",
    "\n",
    "Na verdade, usamos o comando para registrar uma ação para o __tkinter__ chamar quando ocorrer um evento de widget. A função integrada ``sys.exit`` simplesmente fecha o programa, ou seja isso significa que pressionar este botão faz com que a janela desapareça."
   ]
  },
  {
   "cell_type": "code",
   "execution_count": null,
   "metadata": {},
   "outputs": [],
   "source": [
    "%run ../Exemplos/tkinter/exemplo_05"
   ]
  },
  {
   "cell_type": "code",
   "execution_count": null,
   "metadata": {},
   "outputs": [],
   "source": [
    "%run ../Exemplos/tkinter/exemplo_06"
   ]
  },
  {
   "cell_type": "code",
   "execution_count": 7,
   "metadata": {},
   "outputs": [
    {
     "name": "stdout",
     "output_type": "stream",
     "text": [
      "Ok3\n"
     ]
    }
   ],
   "source": [
    "if (True or print(\"Ok1\") or print(\"Ok2\")):\n",
    "    print(\"Ok3\")"
   ]
  },
  {
   "cell_type": "code",
   "execution_count": null,
   "metadata": {},
   "outputs": [],
   "source": [
    "%run ../Exemplos/tkinter/exemplo_07"
   ]
  },
  {
   "cell_type": "markdown",
   "metadata": {},
   "source": [
    "Este último código é um pouco complicado porque lambdas pode conter apenas uma expressão.\n",
    "\n",
    "Para emular o script original, esta versão usa um operador ``or`` para forçar a execução de duas expressões."
   ]
  },
  {
   "cell_type": "code",
   "execution_count": null,
   "metadata": {},
   "outputs": [],
   "source": [
    "%run ../Exemplos/tkinter/exemplo_08"
   ]
  },
  {
   "cell_type": "markdown",
   "metadata": {},
   "source": [
    "Esta versão não especifica nenhuma opção de comando para o botão. Em vez disso, ele vincula manipuladores de retorno de chamada de nível inferior para cliques com o botão esquerdo do mouse (<Button-1>) e cliques duplos com o botão esquerdo do mouse (<Double-1>) dentro da área de exibição do botão. \n",
    "\n",
    "O método bind aceita um grande conjunto desses identificadores de eventos em vários formatos."
   ]
  },
  {
   "cell_type": "code",
   "execution_count": null,
   "metadata": {},
   "outputs": [],
   "source": [
    "%run ../Exemplos/tkinter/exemplo_09"
   ]
  },
  {
   "cell_type": "markdown",
   "metadata": {},
   "source": [
    "Este exemplo cria um widget ``Frame``  e anexa três outros objetos widget a ele, um ``Label`` e dois ``Buttons``, passando o ``Frame`` como seu primeiro argumento. Em termos de tkinter, dizemos que o ``Frame`` se torna pai dos outros três widgets. Ambos os botões neste display acionam retornos de chamada:\n",
    "• Pressionar o botão Hello aciona a função de saudação definida neste arquivo, que é impressa em stdout novamente.\n",
    "• Pressionar o botão Quit chama o método tkinter quit padrão."
   ]
  },
  {
   "cell_type": "markdown",
   "metadata": {},
   "source": [
    "A noção de anexar widgets a contêineres está no centro dos layouts no tkinter. Antes de entrarmos em mais detalhes sobre esse tópico, porém, vamos detalhar."
   ]
  },
  {
   "cell_type": "markdown",
   "metadata": {},
   "source": [
    "Quando uma árvore de widgets é exibida, os widgets filhos aparecem dentro de seus pais e são organizados de acordo com sua ordem de embalagem e suas opções de embalagem. Por causa disso, a ordem em que os widgets são empacotados não apenas fornece sua ordem de recorte, mas também determina como suas configurações laterais serão exibidas na exibição gerada.\n",
    "Veja como funciona o sistema de layout do empacotador:\n",
    "1. O packer começa com uma cavidade de espaço disponível que inclui todo o pai\n",
    "contêiner (por exemplo, todo o quadro ou janela de nível superior).\n",
    "2. Como cada widget é empacotado em um lado, esse widget recebe todo o lado solicitado\n",
    "na cavidade espacial restante, e a cavidade espacial é encolhida.\n",
    "3. As solicitações de pacote posteriores recebem um lado inteiro do que resta, depois que as solicitações de pacote anteriores reduziram a cavidade.\n",
    "4. Depois que os widgets recebem espaço de cavidade, expandir divide qualquer espaço restante para preencher e ancorar, esticar e posicionar os widgets dentro do espaço atribuído."
   ]
  },
  {
   "cell_type": "markdown",
   "metadata": {},
   "source": [
    "<img align=\"center\" style=\"padding-right:10px;\" src=\"Figuras/aula-32_fig_02.png\">"
   ]
  }
 ],
 "metadata": {
  "kernelspec": {
   "display_name": "Python 3 (ipykernel)",
   "language": "python",
   "name": "python3"
  },
  "language_info": {
   "codemirror_mode": {
    "name": "ipython",
    "version": 3
   },
   "file_extension": ".py",
   "mimetype": "text/x-python",
   "name": "python",
   "nbconvert_exporter": "python",
   "pygments_lexer": "ipython3",
   "version": "3.10.13"
  }
 },
 "nbformat": 4,
 "nbformat_minor": 2
}
